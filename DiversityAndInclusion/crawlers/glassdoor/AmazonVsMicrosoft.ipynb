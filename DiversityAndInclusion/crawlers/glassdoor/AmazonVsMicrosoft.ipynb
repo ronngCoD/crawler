{
 "cells": [
  {
   "cell_type": "code",
   "execution_count": 14,
   "id": "hourly-remains",
   "metadata": {},
   "outputs": [],
   "source": [
    "import os\n",
    "import json\n",
    "import numpy as np\n",
    "from datetime import datetime\n",
    "import pandas as pd\n",
    "import matplotlib.pyplot as plt\n",
    "%matplotlib inline\n",
    "from vaderSentiment.vaderSentiment import SentimentIntensityAnalyzer\n",
    "sid_obj=SentimentIntensityAnalyzer()\n",
    "DATA_DIR = 'data/'"
   ]
  },
  {
   "cell_type": "code",
   "execution_count": 37,
   "id": "tracked-house",
   "metadata": {},
   "outputs": [
    {
     "name": "stdout",
     "output_type": "stream",
     "text": [
      "(87059, 11)\n"
     ]
    },
    {
     "data": {
      "text/html": [
       "<div>\n",
       "<style scoped>\n",
       "    .dataframe tbody tr th:only-of-type {\n",
       "        vertical-align: middle;\n",
       "    }\n",
       "\n",
       "    .dataframe tbody tr th {\n",
       "        vertical-align: top;\n",
       "    }\n",
       "\n",
       "    .dataframe thead th {\n",
       "        text-align: right;\n",
       "    }\n",
       "</style>\n",
       "<table border=\"1\" class=\"dataframe\">\n",
       "  <thead>\n",
       "    <tr style=\"text-align: right;\">\n",
       "      <th></th>\n",
       "      <th>rating</th>\n",
       "      <th>employeeStatus</th>\n",
       "      <th>pros</th>\n",
       "      <th>cons</th>\n",
       "      <th>adviceManagement</th>\n",
       "      <th>authorInfo</th>\n",
       "      <th>authorLocation</th>\n",
       "      <th>company</th>\n",
       "      <th>datePosted</th>\n",
       "      <th>authorProfession</th>\n",
       "      <th>CurrentOrFormer</th>\n",
       "    </tr>\n",
       "  </thead>\n",
       "  <tbody>\n",
       "    <tr>\n",
       "      <th>0</th>\n",
       "      <td>5.0</td>\n",
       "      <td>Current Employee, more than 1 year</td>\n",
       "      <td>Fair, effective, great benefits, opportunities...</td>\n",
       "      <td>high demand, long hours, competitive</td>\n",
       "      <td></td>\n",
       "      <td>29 Jun 2021 - Human Resources Coordinator (HR ...</td>\n",
       "      <td></td>\n",
       "      <td>Amazon</td>\n",
       "      <td>2021-06-29</td>\n",
       "      <td>Human Resources Coordinator (HR Coordinator)</td>\n",
       "      <td>Current</td>\n",
       "    </tr>\n",
       "    <tr>\n",
       "      <th>1</th>\n",
       "      <td>4.0</td>\n",
       "      <td>Current Employee</td>\n",
       "      <td>professional , great pay , well trained , good...</td>\n",
       "      <td>stressful , pip , x,y,z</td>\n",
       "      <td></td>\n",
       "      <td>17 Jul 2021 - Full Stack Developer</td>\n",
       "      <td>Hong Kong</td>\n",
       "      <td>Amazon</td>\n",
       "      <td>2021-07-17</td>\n",
       "      <td>Full Stack Developer</td>\n",
       "      <td>Current</td>\n",
       "    </tr>\n",
       "    <tr>\n",
       "      <th>2</th>\n",
       "      <td>4.0</td>\n",
       "      <td>Former Employee, less than 1 year</td>\n",
       "      <td>Good environment, Nice fellows, and good oppor...</td>\n",
       "      <td>Not so many disadvantages and you could learn ...</td>\n",
       "      <td></td>\n",
       "      <td>7 Jul 2021 - Software Development Engineer (SDE)</td>\n",
       "      <td>Hong Kong</td>\n",
       "      <td>Amazon</td>\n",
       "      <td>2021-07-07</td>\n",
       "      <td>Software Development Engineer (SDE)</td>\n",
       "      <td>Former</td>\n",
       "    </tr>\n",
       "    <tr>\n",
       "      <th>3</th>\n",
       "      <td>3.0</td>\n",
       "      <td>Current Employee</td>\n",
       "      <td>Challenging\\r\\nLots to learn business wise and...</td>\n",
       "      <td>Non people oriented\\r\\nFrequent talent loss</td>\n",
       "      <td></td>\n",
       "      <td>29 Jun 2021 - Anonymous Employee</td>\n",
       "      <td></td>\n",
       "      <td>Amazon</td>\n",
       "      <td>2021-06-29</td>\n",
       "      <td>Anonymous Employee</td>\n",
       "      <td>Current</td>\n",
       "    </tr>\n",
       "    <tr>\n",
       "      <th>4</th>\n",
       "      <td>5.0</td>\n",
       "      <td>Current Employee</td>\n",
       "      <td>big firm; good pay; many growth opportunities.</td>\n",
       "      <td>the workload is sometimes high</td>\n",
       "      <td></td>\n",
       "      <td>22 May 2021 - Anonymous Employee</td>\n",
       "      <td></td>\n",
       "      <td>Amazon</td>\n",
       "      <td>2021-05-22</td>\n",
       "      <td>Anonymous Employee</td>\n",
       "      <td>Current</td>\n",
       "    </tr>\n",
       "  </tbody>\n",
       "</table>\n",
       "</div>"
      ],
      "text/plain": [
       "   rating                      employeeStatus  \\\n",
       "0     5.0  Current Employee, more than 1 year   \n",
       "1     4.0                    Current Employee   \n",
       "2     4.0   Former Employee, less than 1 year   \n",
       "3     3.0                    Current Employee   \n",
       "4     5.0                    Current Employee   \n",
       "\n",
       "                                                pros  \\\n",
       "0  Fair, effective, great benefits, opportunities...   \n",
       "1  professional , great pay , well trained , good...   \n",
       "2  Good environment, Nice fellows, and good oppor...   \n",
       "3  Challenging\\r\\nLots to learn business wise and...   \n",
       "4     big firm; good pay; many growth opportunities.   \n",
       "\n",
       "                                                cons adviceManagement  \\\n",
       "0               high demand, long hours, competitive                    \n",
       "1                            stressful , pip , x,y,z                    \n",
       "2  Not so many disadvantages and you could learn ...                    \n",
       "3        Non people oriented\\r\\nFrequent talent loss                    \n",
       "4                     the workload is sometimes high                    \n",
       "\n",
       "                                          authorInfo authorLocation company  \\\n",
       "0  29 Jun 2021 - Human Resources Coordinator (HR ...                 Amazon   \n",
       "1                 17 Jul 2021 - Full Stack Developer      Hong Kong  Amazon   \n",
       "2   7 Jul 2021 - Software Development Engineer (SDE)      Hong Kong  Amazon   \n",
       "3                   29 Jun 2021 - Anonymous Employee                 Amazon   \n",
       "4                   22 May 2021 - Anonymous Employee                 Amazon   \n",
       "\n",
       "  datePosted                              authorProfession CurrentOrFormer  \n",
       "0 2021-06-29  Human Resources Coordinator (HR Coordinator)         Current  \n",
       "1 2021-07-17                          Full Stack Developer         Current  \n",
       "2 2021-07-07           Software Development Engineer (SDE)          Former  \n",
       "3 2021-06-29                            Anonymous Employee         Current  \n",
       "4 2021-05-22                            Anonymous Employee         Current  "
      ]
     },
     "execution_count": 37,
     "metadata": {},
     "output_type": "execute_result"
    }
   ],
   "source": [
    "all_data=[]\n",
    "files=['Amazon.txt','Microsoft.txt']\n",
    "for file in files:\n",
    "    with open(DATA_DIR+file,encoding='utf-8') as f:\n",
    "        for line in f:\n",
    "            data=json.loads(line)\n",
    "            data['rating']=float(data['rating'])\n",
    "            data['company']=file.replace('.txt','')\n",
    "            data['datePosted']=datetime.strptime(data['authorInfo'].split('-')[0].strip(),'%d %b %Y')\n",
    "            data['authorProfession']=data['authorInfo'].split('-')[1].strip()\n",
    "            data['CurrentOrFormer']=''\n",
    "            if 'Current' in data['employeeStatus']:\n",
    "                data['CurrentOrFormer']='Current'\n",
    "            if 'Former' in data['employeeStatus']:\n",
    "                data['CurrentOrFormer']='Former'\n",
    "            all_data.append(data)\n",
    "df=pd.DataFrame(all_data)\n",
    "print(df.shape)\n",
    "df.head()"
   ]
  },
  {
   "cell_type": "code",
   "execution_count": 38,
   "id": "subject-monthly",
   "metadata": {},
   "outputs": [
    {
     "data": {
      "text/html": [
       "<div>\n",
       "<style scoped>\n",
       "    .dataframe tbody tr th:only-of-type {\n",
       "        vertical-align: middle;\n",
       "    }\n",
       "\n",
       "    .dataframe tbody tr th {\n",
       "        vertical-align: top;\n",
       "    }\n",
       "\n",
       "    .dataframe thead th {\n",
       "        text-align: right;\n",
       "    }\n",
       "</style>\n",
       "<table border=\"1\" class=\"dataframe\">\n",
       "  <thead>\n",
       "    <tr style=\"text-align: right;\">\n",
       "      <th>CurrentOrFormer</th>\n",
       "      <th>Current</th>\n",
       "      <th>Former</th>\n",
       "    </tr>\n",
       "    <tr>\n",
       "      <th>company</th>\n",
       "      <th></th>\n",
       "      <th></th>\n",
       "    </tr>\n",
       "  </thead>\n",
       "  <tbody>\n",
       "    <tr>\n",
       "      <th>Amazon</th>\n",
       "      <td>41260</td>\n",
       "      <td>21529</td>\n",
       "    </tr>\n",
       "    <tr>\n",
       "      <th>Microsoft</th>\n",
       "      <td>15894</td>\n",
       "      <td>8376</td>\n",
       "    </tr>\n",
       "  </tbody>\n",
       "</table>\n",
       "</div>"
      ],
      "text/plain": [
       "CurrentOrFormer  Current  Former\n",
       "company                         \n",
       "Amazon             41260   21529\n",
       "Microsoft          15894    8376"
      ]
     },
     "execution_count": 38,
     "metadata": {},
     "output_type": "execute_result"
    }
   ],
   "source": [
    "df.pivot_table(index='company',columns=['CurrentOrFormer'],values='rating',aggfunc='count')"
   ]
  },
  {
   "cell_type": "code",
   "execution_count": 39,
   "id": "cloudy-school",
   "metadata": {},
   "outputs": [],
   "source": [
    "def apply_sentiment(text):\n",
    "    sentiment_dict=sid_obj.polarity_scores(text)\n",
    "    return sentiment_dict['compound']\n",
    "\n",
    "def search_reviews(sWords, matchPhrase=True, ignoreCase=True):\n",
    "    if matchPhrase==False:\n",
    "        sWords='|'.join([word for word in sWords.split()])\n",
    "    df_subset=df[(df['pros'].str.contains(sWords,case=ignoreCase)==True)|(df['cons'].str.contains(sWords,case=ignoreCase)==True)]\n",
    "    return df_subset"
   ]
  },
  {
   "cell_type": "code",
   "execution_count": 40,
   "id": "magnetic-hybrid",
   "metadata": {},
   "outputs": [
    {
     "data": {
      "text/html": [
       "<div>\n",
       "<style scoped>\n",
       "    .dataframe tbody tr th:only-of-type {\n",
       "        vertical-align: middle;\n",
       "    }\n",
       "\n",
       "    .dataframe tbody tr th {\n",
       "        vertical-align: top;\n",
       "    }\n",
       "\n",
       "    .dataframe thead th {\n",
       "        text-align: right;\n",
       "    }\n",
       "</style>\n",
       "<table border=\"1\" class=\"dataframe\">\n",
       "  <thead>\n",
       "    <tr style=\"text-align: right;\">\n",
       "      <th></th>\n",
       "      <th>rating</th>\n",
       "      <th>employeeStatus</th>\n",
       "      <th>pros</th>\n",
       "      <th>cons</th>\n",
       "      <th>adviceManagement</th>\n",
       "      <th>authorInfo</th>\n",
       "      <th>authorLocation</th>\n",
       "      <th>company</th>\n",
       "      <th>datePosted</th>\n",
       "      <th>authorProfession</th>\n",
       "      <th>CurrentOrFormer</th>\n",
       "      <th>proSentiment</th>\n",
       "      <th>conSentiment</th>\n",
       "    </tr>\n",
       "  </thead>\n",
       "  <tbody>\n",
       "    <tr>\n",
       "      <th>0</th>\n",
       "      <td>5.0</td>\n",
       "      <td>Current Employee, more than 1 year</td>\n",
       "      <td>Fair, effective, great benefits, opportunities...</td>\n",
       "      <td>high demand, long hours, competitive</td>\n",
       "      <td></td>\n",
       "      <td>29 Jun 2021 - Human Resources Coordinator (HR ...</td>\n",
       "      <td></td>\n",
       "      <td>Amazon</td>\n",
       "      <td>2021-06-29</td>\n",
       "      <td>Human Resources Coordinator (HR Coordinator)</td>\n",
       "      <td>Current</td>\n",
       "      <td>0.9287</td>\n",
       "      <td>0.0516</td>\n",
       "    </tr>\n",
       "    <tr>\n",
       "      <th>1</th>\n",
       "      <td>4.0</td>\n",
       "      <td>Current Employee</td>\n",
       "      <td>professional , great pay , well trained , good...</td>\n",
       "      <td>stressful , pip , x,y,z</td>\n",
       "      <td></td>\n",
       "      <td>17 Jul 2021 - Full Stack Developer</td>\n",
       "      <td>Hong Kong</td>\n",
       "      <td>Amazon</td>\n",
       "      <td>2021-07-17</td>\n",
       "      <td>Full Stack Developer</td>\n",
       "      <td>Current</td>\n",
       "      <td>0.8271</td>\n",
       "      <td>-0.5106</td>\n",
       "    </tr>\n",
       "    <tr>\n",
       "      <th>2</th>\n",
       "      <td>4.0</td>\n",
       "      <td>Former Employee, less than 1 year</td>\n",
       "      <td>Good environment, Nice fellows, and good oppor...</td>\n",
       "      <td>Not so many disadvantages and you could learn ...</td>\n",
       "      <td></td>\n",
       "      <td>7 Jul 2021 - Software Development Engineer (SDE)</td>\n",
       "      <td>Hong Kong</td>\n",
       "      <td>Amazon</td>\n",
       "      <td>2021-07-07</td>\n",
       "      <td>Software Development Engineer (SDE)</td>\n",
       "      <td>Former</td>\n",
       "      <td>0.8807</td>\n",
       "      <td>0.3536</td>\n",
       "    </tr>\n",
       "    <tr>\n",
       "      <th>3</th>\n",
       "      <td>3.0</td>\n",
       "      <td>Current Employee</td>\n",
       "      <td>Challenging\\r\\nLots to learn business wise and...</td>\n",
       "      <td>Non people oriented\\r\\nFrequent talent loss</td>\n",
       "      <td></td>\n",
       "      <td>29 Jun 2021 - Anonymous Employee</td>\n",
       "      <td></td>\n",
       "      <td>Amazon</td>\n",
       "      <td>2021-06-29</td>\n",
       "      <td>Anonymous Employee</td>\n",
       "      <td>Current</td>\n",
       "      <td>0.5719</td>\n",
       "      <td>0.1280</td>\n",
       "    </tr>\n",
       "    <tr>\n",
       "      <th>4</th>\n",
       "      <td>5.0</td>\n",
       "      <td>Current Employee</td>\n",
       "      <td>big firm; good pay; many growth opportunities.</td>\n",
       "      <td>the workload is sometimes high</td>\n",
       "      <td></td>\n",
       "      <td>22 May 2021 - Anonymous Employee</td>\n",
       "      <td></td>\n",
       "      <td>Amazon</td>\n",
       "      <td>2021-05-22</td>\n",
       "      <td>Anonymous Employee</td>\n",
       "      <td>Current</td>\n",
       "      <td>0.7717</td>\n",
       "      <td>0.0000</td>\n",
       "    </tr>\n",
       "  </tbody>\n",
       "</table>\n",
       "</div>"
      ],
      "text/plain": [
       "   rating                      employeeStatus  \\\n",
       "0     5.0  Current Employee, more than 1 year   \n",
       "1     4.0                    Current Employee   \n",
       "2     4.0   Former Employee, less than 1 year   \n",
       "3     3.0                    Current Employee   \n",
       "4     5.0                    Current Employee   \n",
       "\n",
       "                                                pros  \\\n",
       "0  Fair, effective, great benefits, opportunities...   \n",
       "1  professional , great pay , well trained , good...   \n",
       "2  Good environment, Nice fellows, and good oppor...   \n",
       "3  Challenging\\r\\nLots to learn business wise and...   \n",
       "4     big firm; good pay; many growth opportunities.   \n",
       "\n",
       "                                                cons adviceManagement  \\\n",
       "0               high demand, long hours, competitive                    \n",
       "1                            stressful , pip , x,y,z                    \n",
       "2  Not so many disadvantages and you could learn ...                    \n",
       "3        Non people oriented\\r\\nFrequent talent loss                    \n",
       "4                     the workload is sometimes high                    \n",
       "\n",
       "                                          authorInfo authorLocation company  \\\n",
       "0  29 Jun 2021 - Human Resources Coordinator (HR ...                 Amazon   \n",
       "1                 17 Jul 2021 - Full Stack Developer      Hong Kong  Amazon   \n",
       "2   7 Jul 2021 - Software Development Engineer (SDE)      Hong Kong  Amazon   \n",
       "3                   29 Jun 2021 - Anonymous Employee                 Amazon   \n",
       "4                   22 May 2021 - Anonymous Employee                 Amazon   \n",
       "\n",
       "  datePosted                              authorProfession CurrentOrFormer  \\\n",
       "0 2021-06-29  Human Resources Coordinator (HR Coordinator)         Current   \n",
       "1 2021-07-17                          Full Stack Developer         Current   \n",
       "2 2021-07-07           Software Development Engineer (SDE)          Former   \n",
       "3 2021-06-29                            Anonymous Employee         Current   \n",
       "4 2021-05-22                            Anonymous Employee         Current   \n",
       "\n",
       "   proSentiment  conSentiment  \n",
       "0        0.9287        0.0516  \n",
       "1        0.8271       -0.5106  \n",
       "2        0.8807        0.3536  \n",
       "3        0.5719        0.1280  \n",
       "4        0.7717        0.0000  "
      ]
     },
     "execution_count": 40,
     "metadata": {},
     "output_type": "execute_result"
    }
   ],
   "source": [
    "df['proSentiment']=df['pros'].apply(lambda x:apply_sentiment(x))\n",
    "df['conSentiment']=df['cons'].apply(lambda x:apply_sentiment(x))\n",
    "df.head()"
   ]
  },
  {
   "cell_type": "code",
   "execution_count": 29,
   "id": "pretty-gravity",
   "metadata": {},
   "outputs": [
    {
     "data": {
      "text/plain": [
       "count    87059.000000\n",
       "mean         0.590212\n",
       "std          0.322649\n",
       "min         -0.968200\n",
       "25%          0.421500\n",
       "50%          0.670500\n",
       "75%          0.844200\n",
       "max          0.999700\n",
       "Name: proSentiment, dtype: float64"
      ]
     },
     "execution_count": 29,
     "metadata": {},
     "output_type": "execute_result"
    }
   ],
   "source": [
    "df['proSentiment'].describe()"
   ]
  },
  {
   "cell_type": "code",
   "execution_count": 30,
   "id": "caring-creator",
   "metadata": {},
   "outputs": [
    {
     "data": {
      "text/plain": [
       "count    87059.000000\n",
       "mean        -0.039956\n",
       "std          0.417586\n",
       "min         -0.996000\n",
       "25%         -0.318200\n",
       "50%          0.000000\n",
       "75%          0.196800\n",
       "max          0.999500\n",
       "Name: conSentiment, dtype: float64"
      ]
     },
     "execution_count": 30,
     "metadata": {},
     "output_type": "execute_result"
    }
   ],
   "source": [
    "df['conSentiment'].describe()"
   ]
  },
  {
   "cell_type": "code",
   "execution_count": 31,
   "id": "cardiovascular-scratch",
   "metadata": {},
   "outputs": [
    {
     "data": {
      "text/plain": [
       "53"
      ]
     },
     "execution_count": 31,
     "metadata": {},
     "output_type": "execute_result"
    }
   ],
   "source": [
    "word_dict={'racial': 1,\n",
    " 'fairness': 1,\n",
    " 'discrimination': 1,\n",
    " 'privacy': 1,\n",
    " 'compliance': 1,\n",
    " 'stuffed': 1,\n",
    " 'predominantly': 1,\n",
    " 'spanish': 1,\n",
    " 'submissive': 1,\n",
    " 'pan': 1,\n",
    " 'male': 1,\n",
    " 'chinese': 1,\n",
    " 'elite': 1,\n",
    " 'australian': 1,\n",
    " 'pms': 1,\n",
    " 'badges': 1,\n",
    " 'men': 1,\n",
    " 'golden': 1,\n",
    " 'males': 1,\n",
    " 'female': 1,\n",
    " 'veteran': 1,\n",
    " 'white': 1,\n",
    " 'seasoned': 1,\n",
    " 'incapable': 1,\n",
    " 'minorities': 1,\n",
    " 'emea': 1,\n",
    " 'blr': 1,\n",
    " 'fortress': 1,\n",
    " 'otc': 1,\n",
    " 'inclusion': 1,\n",
    " 'teamwork': 1,\n",
    " 'empowerment': 1,\n",
    " 'transparency': 1,\n",
    " 'professionalism': 1,\n",
    " 'awards': 1,\n",
    " 'valuation': 1,\n",
    " 'grants': 1,\n",
    " 'backloaded': 1,\n",
    " 'offerings': 1,\n",
    " 'openness': 1,\n",
    " 'diversity': 1,\n",
    " 'cultural': 1,\n",
    " 'inexcusable': 1,\n",
    " 'investigators': 1,\n",
    " 'slowest': 1,\n",
    " 'hightech': 1,\n",
    " 'beauty': 1,\n",
    " 'brilliance': 1,\n",
    " 'honesty': 1,\n",
    " 'sexism': 1,\n",
    " 'payroll': 1,\n",
    " 'messaging': 1,\n",
    " 'piss-poor': 1}\n",
    "len(word_dict)"
   ]
  },
  {
   "cell_type": "code",
   "execution_count": 41,
   "id": "instrumental-typing",
   "metadata": {},
   "outputs": [],
   "source": [
    "word_dict=['racism',\n",
    "'agism',\n",
    "'sexist',\n",
    "'bias',\n",
    "'salary',\n",
    "'favouritism',\n",
    "'nepotism',\n",
    "'backstabbing',\n",
    "'sexism',\n",
    "'partiality',\n",
    "'racism',\n",
    "'micromanagement',\n",
    "'favouritism',\n",
    "'politics',\n",
    "'bureaucracy',\n",
    "'pay',\n",
    "'wlb',\n",
    "'discrimination']"
   ]
  },
  {
   "cell_type": "code",
   "execution_count": 53,
   "id": "metric-thought",
   "metadata": {},
   "outputs": [
    {
     "data": {
      "text/plain": [
       "(8615, 13)"
      ]
     },
     "execution_count": 53,
     "metadata": {},
     "output_type": "execute_result"
    }
   ],
   "source": [
    "mywords=\" \".join([w for w in word_dict if 'pay' not in w])\n",
    "df_temp=search_reviews(mywords,False)\n",
    "df_temp.shape"
   ]
  },
  {
   "cell_type": "code",
   "execution_count": 52,
   "id": "coupled-length",
   "metadata": {},
   "outputs": [
    {
     "data": {
      "text/plain": [
       "[('racism', 1, 39),\n",
       " ('agism', 0, 0),\n",
       " ('sexist', 0, 28),\n",
       " ('bias', 69, 293),\n",
       " ('salary', 3186, 1664),\n",
       " ('favouritism', 1, 58),\n",
       " ('nepotism', 1, 57),\n",
       " ('backstabbing', 3, 91),\n",
       " ('sexism', 0, 15),\n",
       " ('partiality', 2, 32),\n",
       " ('racism', 1, 39),\n",
       " ('micromanagement', 41, 113),\n",
       " ('favouritism', 1, 58),\n",
       " ('politics', 244, 2488),\n",
       " ('bureaucracy', 92, 622),\n",
       " ('pay', 11365, 3754),\n",
       " ('wlb', 39, 37),\n",
       " ('discrimination', 19, 81)]"
      ]
     },
     "execution_count": 52,
     "metadata": {},
     "output_type": "execute_result"
    }
   ],
   "source": [
    "word_usage=[]\n",
    "for word in word_dict:\n",
    "    df_pro=df[df['pros'].str.contains(word,case=True)==True]\n",
    "    proUsage=df_pro.shape[0]\n",
    "    proRating=df_pro['rating'].mean()\n",
    "    proSentiment=df_pro['proSentiment'].mean()\n",
    "    df_con=df[df['cons'].str.contains(word,case=True)==True]\n",
    "    conUsage=df_con.shape[0]\n",
    "    conRating=df_con['rating'].mean()\n",
    "    conSentiment=df_con['conSentiment'].mean()\n",
    "    #word_usage.append((word,proUsage,proRating,proSentiment,conUsage,conRating,conSentiment))\n",
    "    word_usage.append((word,proUsage,conUsage))\n",
    "word_usage"
   ]
  },
  {
   "cell_type": "code",
   "execution_count": 35,
   "id": "grand-liechtenstein",
   "metadata": {},
   "outputs": [
    {
     "ename": "NameError",
     "evalue": "name 'df_tempone' is not defined",
     "output_type": "error",
     "traceback": [
      "\u001b[1;31m---------------------------------------------------------------------------\u001b[0m",
      "\u001b[1;31mNameError\u001b[0m                                 Traceback (most recent call last)",
      "\u001b[1;32m<ipython-input-35-bd6cb374411e>\u001b[0m in \u001b[0;36m<module>\u001b[1;34m\u001b[0m\n\u001b[0;32m      1\u001b[0m \u001b[0mdf_temp\u001b[0m\u001b[1;33m=\u001b[0m\u001b[0msearch_reviews\u001b[0m\u001b[1;33m(\u001b[0m\u001b[1;34m'sexist'\u001b[0m\u001b[1;33m)\u001b[0m\u001b[1;33m\u001b[0m\u001b[1;33m\u001b[0m\u001b[0m\n\u001b[1;32m----> 2\u001b[1;33m \u001b[0mdf_tempone\u001b[0m\u001b[1;33m\u001b[0m\u001b[1;33m\u001b[0m\u001b[0m\n\u001b[0m",
      "\u001b[1;31mNameError\u001b[0m: name 'df_tempone' is not defined"
     ]
    }
   ],
   "source": [
    "df_temp=search_reviews('sexist')\n",
    "df_tempone"
   ]
  },
  {
   "cell_type": "code",
   "execution_count": 56,
   "id": "metric-trick",
   "metadata": {
    "scrolled": false
   },
   "outputs": [
    {
     "name": "stdout",
     "output_type": "stream",
     "text": [
      "Back stabbing, deceit, racist, sexist culture. Most devious and self promoting engineers win. If you want to do good engineering work then go somewhere else. If you love politics and outsmarting your peers then this is the place for you.\n",
      "____________________________________________\n",
      "Unwilling to work with their associates and show compassion, especially in the face of COVID-19. As a woman in her 20s, I faced sexist and condescending remarks from select male superiors.\n",
      "____________________________________________\n",
      "As for the insurance benefits, for a company the size of Amazon.com, and with as many subsidiaries that they own, they should have been able to hire someone who could have negotiated a much better deal for their group insurance rates for anyone with a family.  I've worked at smaller employers, with nowhere near the employee capital leverage that Amazon.com can command, and they provided much better insurance for families or Parents w/children, at much lower rates.\r\n",
      "again, as long as you're single, or only have a spouse/domestic partner...and that spouse/domestic partner is able to/willing to move.  If you have children, or your spouse/partner can't/won't move for whatever reason, then you better have a college degree to move up within any real time frame.  In my 4 years of being at Amazon.com, I knew of many Tier 3's who had been at Amazon for 5 years, maxing out their pay, before they were promoted. For me, that's just too long to be in one place, with less than a dollar raise per year, to be on one position.....Unless you were some one if the opposite sex of who wanted you to fill a Tier 3 role (that's right, sexist behavior) or Unless you have a degree...Add that in and I've known of a dozen or more who were promoted within 18 months or so. That doesn't count the number of newly hired Area Managers that were only able to do the job because of the Tier 3's in the area, and then still fail and before being fired, start going on write up spree's to prove they can be better managers.  Amazon doesn't have a formal policy for having to have a college degree to be promoted, but even if you have more than a decade in direct management, don't think you'll be promoted to an actual AM position, at Tier 4 or above, unless you have a degree.\r\n",
      "The shares of stock (Stock Bonus) that you receive, only twice, as a Tier 1 (or even after being promoted to Tier 3) employee is nice, but tons of employers offer far better bonus options, however, tons of employers also offer NO bonus options.\r\n",
      "As for the monthly bonus that you MAY receive, it's far from guaranteed, and seems to be skewed to benefit employees who don't have children to take care of (single parents), or a handicapped/sick spouse, parent, or have to have another main priority other than Amazon.  If you use your Unpaid Personal Time, then the small monthly bonus that you MAY receive is docked by 50%. Use that time twice and you lose it.\r\n",
      "As for Leave, different facilities may have different requirements for approving the leave, forget that some states and federal laws require that it is provided in certain instances.  Even if you have the correct documentation, then you can still be denied FMLA.  I know, it's a serious accusation, but it's completely true.  And their Ethics line complaints? well, maybe i depends on who deals with your complaints, but no one that I knew of ever was able to have anything happen (unless it was a Tier 1, who were sometimes fired as a result of theft)\r\n",
      "As for the Tuition/education program, it's not bad, but changing it to allow for earning, at least, an Associate degree, since you can actually earn it from some programs, or with some college (from before Amazon), and it would really be great.\r\n",
      "the Pay structure is somewhat odd, I've worked with temps, who have less experience, and knew than me, but made $2.00 per hr more than I did..Why? I had more responsibility expected of me but I actually made less than someone who was able to skate by doing as little as possible, making as much as possible.  Amazon makes an attempt to vary pay increases by looking at other employers in the area and calculating other benefits, giving an extra quarter (sometimes less, or more than that).\r\n",
      "And one more thing...if you think that once you're promoted to a higher position, (Tier3 or up,) you could ever skate by with only getting your regular 40 hours, forget it, as an AM or higher, you hae to put in a TON of extra hours, so kiss your kids, wife, and anyone else in your life goodbye.\n",
      "____________________________________________\n",
      "Complete lack of accountability for some managers - drunk driving charges, inappropriate relationships with subordinates, leaving work to have drinks and then returning to work, sexist remarks in the workplace. The facility where I worked has a Senior Leadership team who have no idea how to lead. They try to motivate through fear, belittlement, and intimidation. They have no concept of how to develop or train.\n",
      "____________________________________________\n",
      "Low paying tedious and mindless work. I took this job because I was going through a difficult time and I thought that this would be what I needed. I quickly discovered this was not the case. My brain needs to be doing something productive at a job and it could not handle the tedium. \r\n",
      "\r\n",
      "This job involves taking boxes off of a belt and stacking them on a pellet to be shipped. Let me be clear, there are other positions but the vast majority of the employees are forced to be scanners during their shifts. This wouldn't be nearly as stressful if the other people scanning in your lane would actually stack the boxes properly. A normal person knows that it is not that difficult to stack boxes so that they don't fall down, but I do not think I was working with normal people. They would throw the boxes on the pellets and then throw boxes on top of the corner of a box. No they would not take the second required to sit the box on a flat surface, it was too much work for them. In the end you would have a six foot leaning Tower of Pisa falling on an associate because everyone was too lazy to do their jobs right. Then a water spider, the person who wraps and labels the packages for shipping, would have to rebuild the pellet by themselves. One person had to correct the carelessness of eight people. It would have taken those eight but a few seconds to do their jobs right the first time but instead one person had to waste minutes fixing the problem. Lest you think this to be a minor annoyance, there were about ninety pellets per lane that were falling over and needed to be fixed. Ninety pellets that one person had to fix.\r\n",
      "\r\n",
      "When I tried to fix the pellets because I can't do my job improperly I was told to stop and let the water spiders do it. That to me is the definition of insanity. I was told to stop fixing the pellets and get the big boxes off of the belt and stack them. Maybe someone much smarter than me can tell me how in the world am I supposed to put a fifty pound box on top of two to five pound boxes that are about to fall over? The managers and employees were either apathetic or ignorant. I choose to believe that they couldn't be that ignorant, and in that case I had to go. When you have a job to do apathy is something that I can't deal with. You can always learn but if you just don't care then there will never be improvement.\r\n",
      "\r\n",
      "There is a board where the associates could make suggestions for improvement to management, but of course they were largely ignored. Training all of the employees on pellet building would have taken five minutes. They take longer than that to stretch and make announcements prior to the start of the shift.\r\n",
      "\r\n",
      "I almost forgot to mention that you will be hired for and accept a shift that you schedule your life around only to find out on your first day that they changed your shift and didn't feel the need to inform you. I was not the only person they did this to. I spoke to other people who had gone through this. Then they tell you that you have to wait ninety days before you can request a shift change.\r\n",
      "\r\n",
      "The pay is about twelve dollars an hour for a guaranteed eighteen hours. Amazon tells you that you cannot have a second job with their approval because your life has to revolve around Amazon. I don't know how anyone can afford to live on eighteen hours a week.\r\n",
      "\r\n",
      "In summary, Amazon fulfillment centers are a wonderful place to work if you are apathetic, male and have no career aspirations. It is a very sexist environment and they do not respect their employees. I never even met my manager.\n",
      "____________________________________________\n",
      "I worked for the Amazon Shopper segment. In Los Angeles, at the Whole Foods in West LA. The WH staff there were bigots and our amazon manager did not care for anyone that had any issues with doing the job. Basically quit if you don't like it. LOTS AND LOTS of harassment went down from the Whole Foods staff! They targeted anyone that did not look like them *COUGH*BIGOTS*COUGH*. Whole Foods staff is beyond incompetent. \r\n",
      "\r\n",
      "Seems like only a handful of them worked the rest were busy being bigots (sexist, racist, ignorant, abusive, homophobic, etc.) Oh and wow they hated that we used 'their' break room. Hey MORONS, WE ALL WORK FOR AMAZON. Really disgusting behavior from Amazon and Whole Foods staff.\r\n",
      "\r\n",
      "Basically work is what they say ignore the conditions they have you work under. BTW there was a WHOLE GROUP of amazon shoppers that DID NOT WORK. Yet ANYONE that did NOT look like the WH staff made the slightest mistake THEY WERE FIRED HMMM racist much!? A guy was fired by WH staff for not wearing his badge. YET the WHOLE GROUP of 'shoppers' THAT DID NOT EVEN WORK BTW NEVER wore their badges and broke about every rule. And as far as I know THEY ARE STILL WORKING THERE!!!!!! IDIOTS!!!!!\r\n",
      "\r\n",
      "Also they created something called problem causing, oops I mean problem solving shifts. Where you would GET PAID THE SAME and yet have more responsibilities. Problem was that most of the problem solvers were INCOMPETENT and actually should have been called problem CAUSERS. Several times they told me WRONG things and I CORRECTED THEM! IDIOTS!!!!\n",
      "____________________________________________\n",
      "Management (including team leaders) are power hungry tyrants, HR are no where to be seen, workers are told what to do every minute of the day, over crowded warehouse, cheap food for high price at the canteen, employ pretty much anyone (I worked alongside ex-convicts) so security is ridiculously strict, cold in the warehouse, every male colleague and manager i knew was sexist, plenty of racism and homophobia. Break times are so short and hours are long, not allowed to sit down or lean. Not allowed to talk to other colleagues in the warehouse, ridiculous targets to meet, minimum holidays and holiday refusals with no explanation. Hated it.\n",
      "____________________________________________\n",
      "Management (including team leaders) are power hungry tyrants, HR are no where to be seen, workers are told what to do every minute of the day, over crowded warehouse, cheap food for high price at the canteen, employ pretty much anyone (I worked alongside ex-convicts) so security is ridiculously strict, cold in the warehouse, every male colleague and manager i knew was sexist, plenty of racism and homophobia. Break times are so short and hours are long, not allowed to sit down or lean. Not allowed to talk to other colleagues in the warehouse, ridiculous targets to meet, minimum holidays and holiday refusals with no explanation. Hated it.\n",
      "____________________________________________\n",
      "Growth opportunities limited to only a few. It is a sexist and homophobic space to work in. \r\n",
      "\r\n",
      " They work according to facial colour/race, and sexual orientation, in that place.  A very homophobic management structure. Yeah sure, they say that they are Pride conscious. When I had personal experience of being sexually harassed by management and coworkers because of my sexual orientation. \r\n",
      "\r\n",
      "Customer service agents suck. Management will work against you to hide their shortcomings. It has absolutely nothing to do with the customers that we are supposedly working for. I honestly believed that I would love working for a place where it is fast paced, and where all you need to do is work hard. The system is so rigged that in the end you won't get/stand a chance if you don't submit to being harassed emotional, and sexually, or in whatever way your fellow colleagues feel to do.\n",
      "____________________________________________\n",
      "Brotopia… If you are a sexist white dude you'll fit right in. Women and minorities need to be very carful about selectin a team.\n",
      "____________________________________________\n"
     ]
    }
   ],
   "source": [
    "sample_size=10\n",
    "temp=df_temp.sample(sample_size)\n",
    "for i in range(sample_size):\n",
    "    print(temp.iloc[i]['cons'])\n",
    "    print('____________________________________________')"
   ]
  },
  {
   "cell_type": "code",
   "execution_count": 56,
   "id": "enormous-essence",
   "metadata": {},
   "outputs": [
    {
     "name": "stdout",
     "output_type": "stream",
     "text": [
      "racism agism sexist bias salary favouritism nepotism backstabbing sexism partiality racism micromanagement favouritism politics bureaucracy wlb discrimination\n"
     ]
    },
    {
     "data": {
      "text/html": [
       "<div>\n",
       "<style scoped>\n",
       "    .dataframe tbody tr th:only-of-type {\n",
       "        vertical-align: middle;\n",
       "    }\n",
       "\n",
       "    .dataframe tbody tr th {\n",
       "        vertical-align: top;\n",
       "    }\n",
       "\n",
       "    .dataframe thead th {\n",
       "        text-align: right;\n",
       "    }\n",
       "</style>\n",
       "<table border=\"1\" class=\"dataframe\">\n",
       "  <thead>\n",
       "    <tr style=\"text-align: right;\">\n",
       "      <th>company</th>\n",
       "      <th>Amazon</th>\n",
       "      <th>Microsoft</th>\n",
       "    </tr>\n",
       "  </thead>\n",
       "  <tbody>\n",
       "    <tr>\n",
       "      <th>countTotal</th>\n",
       "      <td>62789.000000</td>\n",
       "      <td>24270.000000</td>\n",
       "    </tr>\n",
       "    <tr>\n",
       "      <th>ratingTotal</th>\n",
       "      <td>3.712466</td>\n",
       "      <td>4.047301</td>\n",
       "    </tr>\n",
       "    <tr>\n",
       "      <th>proSentimentTotal</th>\n",
       "      <td>0.550838</td>\n",
       "      <td>0.692076</td>\n",
       "    </tr>\n",
       "    <tr>\n",
       "      <th>conSentimentTotal</th>\n",
       "      <td>-0.061352</td>\n",
       "      <td>0.015399</td>\n",
       "    </tr>\n",
       "    <tr>\n",
       "      <th>countCurrent</th>\n",
       "      <td>41260.000000</td>\n",
       "      <td>15894.000000</td>\n",
       "    </tr>\n",
       "    <tr>\n",
       "      <th>ratingCurrent</th>\n",
       "      <td>3.897625</td>\n",
       "      <td>4.151755</td>\n",
       "    </tr>\n",
       "    <tr>\n",
       "      <th>proSentimentCurrent</th>\n",
       "      <td>0.567120</td>\n",
       "      <td>0.687472</td>\n",
       "    </tr>\n",
       "    <tr>\n",
       "      <th>conSentimentCurrent</th>\n",
       "      <td>-0.043094</td>\n",
       "      <td>0.017877</td>\n",
       "    </tr>\n",
       "    <tr>\n",
       "      <th>countFormer</th>\n",
       "      <td>21529.000000</td>\n",
       "      <td>8376.000000</td>\n",
       "    </tr>\n",
       "    <tr>\n",
       "      <th>ratingFormer</th>\n",
       "      <td>3.357611</td>\n",
       "      <td>3.849093</td>\n",
       "    </tr>\n",
       "    <tr>\n",
       "      <th>proSentimentFormer</th>\n",
       "      <td>0.519633</td>\n",
       "      <td>0.700811</td>\n",
       "    </tr>\n",
       "    <tr>\n",
       "      <th>conSentimentFormer</th>\n",
       "      <td>-0.096345</td>\n",
       "      <td>0.010698</td>\n",
       "    </tr>\n",
       "    <tr>\n",
       "      <th>countWords</th>\n",
       "      <td>4883.000000</td>\n",
       "      <td>3732.000000</td>\n",
       "    </tr>\n",
       "    <tr>\n",
       "      <th>ratingWords</th>\n",
       "      <td>3.526111</td>\n",
       "      <td>3.697213</td>\n",
       "    </tr>\n",
       "    <tr>\n",
       "      <th>proSemtimentWords</th>\n",
       "      <td>0.594566</td>\n",
       "      <td>0.730646</td>\n",
       "    </tr>\n",
       "    <tr>\n",
       "      <th>conSentimentWords</th>\n",
       "      <td>-0.079859</td>\n",
       "      <td>0.009564</td>\n",
       "    </tr>\n",
       "  </tbody>\n",
       "</table>\n",
       "</div>"
      ],
      "text/plain": [
       "company                    Amazon     Microsoft\n",
       "countTotal           62789.000000  24270.000000\n",
       "ratingTotal              3.712466      4.047301\n",
       "proSentimentTotal        0.550838      0.692076\n",
       "conSentimentTotal       -0.061352      0.015399\n",
       "countCurrent         41260.000000  15894.000000\n",
       "ratingCurrent            3.897625      4.151755\n",
       "proSentimentCurrent      0.567120      0.687472\n",
       "conSentimentCurrent     -0.043094      0.017877\n",
       "countFormer          21529.000000   8376.000000\n",
       "ratingFormer             3.357611      3.849093\n",
       "proSentimentFormer       0.519633      0.700811\n",
       "conSentimentFormer      -0.096345      0.010698\n",
       "countWords            4883.000000   3732.000000\n",
       "ratingWords              3.526111      3.697213\n",
       "proSemtimentWords        0.594566      0.730646\n",
       "conSentimentWords       -0.079859      0.009564"
      ]
     },
     "execution_count": 56,
     "metadata": {},
     "output_type": "execute_result"
    }
   ],
   "source": [
    "df1=df.pivot_table(index='company',values='rating',aggfunc='count')\n",
    "df2=df.pivot_table(index='company',values='rating',aggfunc=np.mean)\n",
    "df3=df.pivot_table(index='company',values='proSentiment',aggfunc=np.mean)\n",
    "df4=df.pivot_table(index='company',values='conSentiment',aggfunc=np.mean)\n",
    "\n",
    "df_temp=df[df['CurrentOrFormer']=='Current'].copy()\n",
    "df5=df_temp.pivot_table(index='company',values='rating',aggfunc='count')\n",
    "df6=df_temp.pivot_table(index='company',values='rating',aggfunc=np.mean)\n",
    "df7=df_temp.pivot_table(index='company',values='proSentiment',aggfunc=np.mean)\n",
    "df8=df_temp.pivot_table(index='company',values='conSentiment',aggfunc=np.mean)\n",
    "\n",
    "df_temp=df[df['CurrentOrFormer']=='Former'].copy()\n",
    "df9=df_temp.pivot_table(index='company',values='rating',aggfunc='count')\n",
    "df10=df_temp.pivot_table(index='company',values='rating',aggfunc=np.mean)\n",
    "df11=df_temp.pivot_table(index='company',values='proSentiment',aggfunc=np.mean)\n",
    "df12=df_temp.pivot_table(index='company',values='conSentiment',aggfunc=np.mean)\n",
    "\n",
    "mywords=\" \".join([w for w in word_dict if 'pay' not in w])\n",
    "df_temp=search_reviews(mywords,False)\n",
    "df13=df_temp.pivot_table(index='company',values='rating',aggfunc='count')\n",
    "df14=df_temp.pivot_table(index='company',values='rating',aggfunc=np.mean)\n",
    "df15=df_temp.pivot_table(index='company',values='proSentiment',aggfunc=np.mean)\n",
    "df16=df_temp.pivot_table(index='company',values='conSentiment',aggfunc=np.mean)\n",
    "\n",
    "print(mywords)\n",
    "df_summary=pd.concat((df1, df2, df3, df4, df5, df6, df7, df8, df9, df10, df11, df12,df13,df14,df15,df16), axis=1)\n",
    "df_summary.columns=['countTotal','ratingTotal','proSentimentTotal','conSentimentTotal',\n",
    "                            'countCurrent','ratingCurrent','proSentimentCurrent','conSentimentCurrent',\n",
    "                            'countFormer','ratingFormer','proSentimentFormer','conSentimentFormer',\n",
    "                   'countWords','ratingWords','proSemtimentWords','conSentimentWords']\n",
    "df_summary.T"
   ]
  },
  {
   "cell_type": "code",
   "execution_count": 54,
   "id": "exposed-adult",
   "metadata": {},
   "outputs": [
    {
     "data": {
      "text/html": [
       "<div>\n",
       "<style scoped>\n",
       "    .dataframe tbody tr th:only-of-type {\n",
       "        vertical-align: middle;\n",
       "    }\n",
       "\n",
       "    .dataframe tbody tr th {\n",
       "        vertical-align: top;\n",
       "    }\n",
       "\n",
       "    .dataframe thead th {\n",
       "        text-align: right;\n",
       "    }\n",
       "</style>\n",
       "<table border=\"1\" class=\"dataframe\">\n",
       "  <thead>\n",
       "    <tr style=\"text-align: right;\">\n",
       "      <th></th>\n",
       "      <th>rating</th>\n",
       "      <th>employeeStatus</th>\n",
       "      <th>pros</th>\n",
       "      <th>cons</th>\n",
       "      <th>adviceManagement</th>\n",
       "      <th>authorInfo</th>\n",
       "      <th>authorLocation</th>\n",
       "      <th>company</th>\n",
       "      <th>datePosted</th>\n",
       "      <th>authorProfession</th>\n",
       "      <th>CurrentOrFormer</th>\n",
       "      <th>proSentiment</th>\n",
       "      <th>conSentiment</th>\n",
       "    </tr>\n",
       "  </thead>\n",
       "  <tbody>\n",
       "    <tr>\n",
       "      <th>33</th>\n",
       "      <td>5.0</td>\n",
       "      <td>Current Employee</td>\n",
       "      <td>hello I just want to check the salary</td>\n",
       "      <td>But I am not working for servicenow now. just ...</td>\n",
       "      <td></td>\n",
       "      <td>25 Apr 2019 - Anonymous Employee</td>\n",
       "      <td></td>\n",
       "      <td>Amazon</td>\n",
       "      <td>2019-04-25</td>\n",
       "      <td>Anonymous Employee</td>\n",
       "      <td>Current</td>\n",
       "      <td>0.0772</td>\n",
       "      <td>0.0000</td>\n",
       "    </tr>\n",
       "    <tr>\n",
       "      <th>37</th>\n",
       "      <td>4.0</td>\n",
       "      <td>Former Employee</td>\n",
       "      <td>Positive company culture, work-life balance.</td>\n",
       "      <td>Some departments have a bureaucracy, the team ...</td>\n",
       "      <td></td>\n",
       "      <td>15 Mar 2017 - Anonymous Employee</td>\n",
       "      <td></td>\n",
       "      <td>Amazon</td>\n",
       "      <td>2017-03-15</td>\n",
       "      <td>Anonymous Employee</td>\n",
       "      <td>Former</td>\n",
       "      <td>0.5574</td>\n",
       "      <td>-0.3412</td>\n",
       "    </tr>\n",
       "    <tr>\n",
       "      <th>41</th>\n",
       "      <td>4.0</td>\n",
       "      <td>Current Employee</td>\n",
       "      <td>Disclaimer: My opinions reflect that of an SDE...</td>\n",
       "      <td>Beware of bad managers and horrible team mates...</td>\n",
       "      <td></td>\n",
       "      <td>19 Sep 2014 - Software Development Engineer</td>\n",
       "      <td>Seattle, WA</td>\n",
       "      <td>Amazon</td>\n",
       "      <td>2014-09-19</td>\n",
       "      <td>Software Development Engineer</td>\n",
       "      <td>Current</td>\n",
       "      <td>0.9991</td>\n",
       "      <td>-0.7085</td>\n",
       "    </tr>\n",
       "    <tr>\n",
       "      <th>63</th>\n",
       "      <td>1.0</td>\n",
       "      <td>Current Employee, less than 1 year</td>\n",
       "      <td>1) The total comp \"could\" be great. \\n2) Lots ...</td>\n",
       "      <td>As a consultant: \\n\\n1) No Trainings - They al...</td>\n",
       "      <td></td>\n",
       "      <td>1 Jul 2021 - Principal Consultant</td>\n",
       "      <td></td>\n",
       "      <td>Amazon</td>\n",
       "      <td>2021-07-01</td>\n",
       "      <td>Principal Consultant</td>\n",
       "      <td>Current</td>\n",
       "      <td>0.7845</td>\n",
       "      <td>-0.8246</td>\n",
       "    </tr>\n",
       "    <tr>\n",
       "      <th>69</th>\n",
       "      <td>5.0</td>\n",
       "      <td>Current Employee</td>\n",
       "      <td>vibrant, fast paced culture\\r\\n- smart, fun, a...</td>\n",
       "      <td>Worse still is the politics. When you hire a b...</td>\n",
       "      <td></td>\n",
       "      <td>6 Apr 2015 -</td>\n",
       "      <td></td>\n",
       "      <td>Amazon</td>\n",
       "      <td>2015-04-06</td>\n",
       "      <td></td>\n",
       "      <td>Current</td>\n",
       "      <td>0.9628</td>\n",
       "      <td>0.4201</td>\n",
       "    </tr>\n",
       "  </tbody>\n",
       "</table>\n",
       "</div>"
      ],
      "text/plain": [
       "    rating                      employeeStatus  \\\n",
       "33     5.0                    Current Employee   \n",
       "37     4.0                     Former Employee   \n",
       "41     4.0                    Current Employee   \n",
       "63     1.0  Current Employee, less than 1 year   \n",
       "69     5.0                    Current Employee   \n",
       "\n",
       "                                                 pros  \\\n",
       "33              hello I just want to check the salary   \n",
       "37       Positive company culture, work-life balance.   \n",
       "41  Disclaimer: My opinions reflect that of an SDE...   \n",
       "63  1) The total comp \"could\" be great. \\n2) Lots ...   \n",
       "69  vibrant, fast paced culture\\r\\n- smart, fun, a...   \n",
       "\n",
       "                                                 cons adviceManagement  \\\n",
       "33  But I am not working for servicenow now. just ...                    \n",
       "37  Some departments have a bureaucracy, the team ...                    \n",
       "41  Beware of bad managers and horrible team mates...                    \n",
       "63  As a consultant: \\n\\n1) No Trainings - They al...                    \n",
       "69  Worse still is the politics. When you hire a b...                    \n",
       "\n",
       "                                     authorInfo authorLocation company  \\\n",
       "33             25 Apr 2019 - Anonymous Employee                 Amazon   \n",
       "37             15 Mar 2017 - Anonymous Employee                 Amazon   \n",
       "41  19 Sep 2014 - Software Development Engineer    Seattle, WA  Amazon   \n",
       "63            1 Jul 2021 - Principal Consultant                 Amazon   \n",
       "69                                6 Apr 2015 -                  Amazon   \n",
       "\n",
       "   datePosted               authorProfession CurrentOrFormer  proSentiment  \\\n",
       "33 2019-04-25             Anonymous Employee         Current        0.0772   \n",
       "37 2017-03-15             Anonymous Employee          Former        0.5574   \n",
       "41 2014-09-19  Software Development Engineer         Current        0.9991   \n",
       "63 2021-07-01           Principal Consultant         Current        0.7845   \n",
       "69 2015-04-06                                        Current        0.9628   \n",
       "\n",
       "    conSentiment  \n",
       "33        0.0000  \n",
       "37       -0.3412  \n",
       "41       -0.7085  \n",
       "63       -0.8246  \n",
       "69        0.4201  "
      ]
     },
     "execution_count": 54,
     "metadata": {},
     "output_type": "execute_result"
    }
   ],
   "source": [
    "df_temp.head()"
   ]
  },
  {
   "cell_type": "code",
   "execution_count": 47,
   "id": "electoral-cisco",
   "metadata": {},
   "outputs": [
    {
     "data": {
      "text/plain": [
       "<AxesSubplot:>"
      ]
     },
     "execution_count": 47,
     "metadata": {},
     "output_type": "execute_result"
    },
    {
     "data": {
      "image/png": "[encoded data removed]",
      "text/plain": [
       "<Figure size 432x288 with 1 Axes>"
      ]
     },
     "metadata": {
      "needs_background": "light"
     },
     "output_type": "display_data"
    }
   ],
   "source": [
    "df['rating'].hist()"
   ]
  },
  {
   "cell_type": "code",
   "execution_count": 46,
   "id": "thrown-daisy",
   "metadata": {},
   "outputs": [
    {
     "data": {
      "text/plain": [
       "<AxesSubplot:>"
      ]
     },
     "execution_count": 46,
     "metadata": {},
     "output_type": "execute_result"
    },
    {
     "data": {
      "image/png": "[encoded data removed]",
      "text/plain": [
       "<Figure size 432x288 with 1 Axes>"
      ]
     },
     "metadata": {
      "needs_background": "light"
     },
     "output_type": "display_data"
    }
   ],
   "source": [
    "df_amazon['rating'].hist()"
   ]
  },
  {
   "cell_type": "code",
   "execution_count": 45,
   "id": "refined-device",
   "metadata": {},
   "outputs": [
    {
     "data": {
      "text/plain": [
       "<AxesSubplot:>"
      ]
     },
     "execution_count": 45,
     "metadata": {},
     "output_type": "execute_result"
    },
    {
     "data": {
      "image/png": "[encoded data removed]",
      "text/plain": [
       "<Figure size 432x288 with 1 Axes>"
      ]
     },
     "metadata": {
      "needs_background": "light"
     },
     "output_type": "display_data"
    }
   ],
   "source": [
    "df_microsoft['rating'].hist()"
   ]
  },
  {
   "cell_type": "code",
   "execution_count": 61,
   "id": "marine-transmission",
   "metadata": {},
   "outputs": [
    {
     "name": "stdout",
     "output_type": "stream",
     "text": [
      "3.984346999231979\n",
      "0.6788369052408143\n",
      "0.0068447207694833576\n"
     ]
    }
   ],
   "source": [
    "print(df_microsoft['rating'].mean())\n",
    "print(df_microsoft['proSentiment'].mean())\n",
    "print(df_microsoft['conSentiment'].mean())"
   ]
  },
  {
   "cell_type": "code",
   "execution_count": 60,
   "id": "swedish-virginia",
   "metadata": {},
   "outputs": [
    {
     "name": "stdout",
     "output_type": "stream",
     "text": [
      "3.707284309652403\n",
      "0.5510070821215838\n",
      "-0.0613374615704134\n"
     ]
    }
   ],
   "source": [
    "print(df_amazon['rating'].mean())\n",
    "print(df_amazon['proSentiment'].mean())\n",
    "print(df_amazon['conSentiment'].mean())"
   ]
  },
  {
   "cell_type": "code",
   "execution_count": null,
   "id": "alive-missile",
   "metadata": {},
   "outputs": [],
   "source": []
  }
 ],
 "metadata": {
  "kernelspec": {
   "display_name": "Python 3",
   "language": "python",
   "name": "python3"
  },
  "language_info": {
   "codemirror_mode": {
    "name": "ipython",
    "version": 3
   },
   "file_extension": ".py",
   "mimetype": "text/x-python",
   "name": "python",
   "nbconvert_exporter": "python",
   "pygments_lexer": "ipython3",
   "version": "3.8.8"
  }
 },
 "nbformat": 4,
 "nbformat_minor": 5
}
